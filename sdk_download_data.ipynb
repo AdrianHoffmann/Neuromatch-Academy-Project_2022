{
  "nbformat": 4,
  "nbformat_minor": 0,
  "metadata": {
    "colab": {
      "name": "sdk_download_data.ipynb",
      "provenance": []
    },
    "kernelspec": {
      "name": "python3",
      "display_name": "Python 3"
    },
    "language_info": {
      "name": "python"
    }
  },
  "cells": [
    {
      "cell_type": "markdown",
      "metadata": {
        "id": "-uVg_ZlgMtZQ"
      },
      "source": [
        "# Download data from Allen SDK\n",
        "\n",
        "Steps performed:\n",
        "\n",
        "*   Download files from AllenSDK repository\n",
        "*   Extract some features\n",
        "*   Resample signals to 2p imaging rate\n",
        "*   Save everything as xarray\n",
        "*   Delete temporary files\n",
        "*   Copy local files to Google Drive\n",
        "\n",
        "Adrian Hoffmann, 2021-08-13"
      ]
    },
    {
      "cell_type": "markdown",
      "metadata": {
        "id": "g1c217mKLaCT"
      },
      "source": [
        "### Install packages + imports"
      ]
    },
    {
      "cell_type": "code",
      "metadata": {
        "id": "T39xEa-KLcyL"
      },
      "source": [
        "!python -m pip install --upgrade pip\n",
        "!pip install mindscope_utilities\n",
        "!pip install allensdk==2.12.1"
      ],
      "execution_count": null,
      "outputs": []
    },
    {
      "cell_type": "markdown",
      "metadata": {
        "id": "Qoan_5-gLgDE"
      },
      "source": [
        "### Restart the runtime!!!"
      ]
    },
    {
      "cell_type": "code",
      "metadata": {
        "id": "tTR7TOEXLirJ"
      },
      "source": [
        "# really, restart the runtime..."
      ],
      "execution_count": 1,
      "outputs": []
    },
    {
      "cell_type": "markdown",
      "metadata": {
        "id": "UJAfk25KLt3b"
      },
      "source": [
        "### Imports"
      ]
    },
    {
      "cell_type": "code",
      "metadata": {
        "id": "UPhVLPTkLooc"
      },
      "source": [
        "import os\n",
        "import numpy as np\n",
        "import pandas as pd\n",
        "from tqdm import tqdm\n",
        "import seaborn as sns\n",
        "import matplotlib.pyplot as plt\n",
        "\n",
        "import mindscope_utilities\n",
        "import mindscope_utilities.visual_behavior_ophys as ophys\n",
        "\n",
        "from allensdk.brain_observatory.behavior.behavior_project_cache import VisualBehaviorOphysProjectCache\n"
      ],
      "execution_count": 2,
      "outputs": []
    },
    {
      "cell_type": "code",
      "metadata": {
        "id": "zGXL9vY-LlW3"
      },
      "source": [
        "data_storage_directory = \"/temp\" # Note: this path must exist on your local drive\n",
        "cache = VisualBehaviorOphysProjectCache.from_s3_cache(cache_dir=data_storage_directory)"
      ],
      "execution_count": null,
      "outputs": []
    },
    {
      "cell_type": "markdown",
      "metadata": {
        "id": "IIx74WunL6O5"
      },
      "source": [
        "# Select ids to download"
      ]
    },
    {
      "cell_type": "markdown",
      "metadata": {
        "id": "MxK4zH2BL9Ot"
      },
      "source": [
        "### In case of only a single mouse:"
      ]
    },
    {
      "cell_type": "code",
      "metadata": {
        "id": "tctBthYuL8Y3"
      },
      "source": [
        "##### Load meta-data for all experiments\n",
        "data_storage_directory = \"/temp\" # Note: this path must exist on your local drive\n",
        "cache = VisualBehaviorOphysProjectCache.from_s3_cache(cache_dir=data_storage_directory)\n",
        "all_sessions = cache.get_ophys_session_table()\n",
        "\n",
        "###### get ophys ids\n",
        "# sessions = all_sessions.query('mouse_id == 431252')\n",
        "sessions = all_sessions.query('mouse_id == 479839')\n",
        "\n",
        "print('Session types:', sorted(sessions.session_type.unique() ))\n",
        "print('Number of sessions:', len(sessions))\n",
        "print('Number of mice:', len( sessions.mouse_id.unique() ))\n",
        "\n",
        "# sessions\n",
        "ophys_ids = sorted( list( sessions.index ) )\n",
        "sessions"
      ],
      "execution_count": null,
      "outputs": []
    },
    {
      "cell_type": "markdown",
      "metadata": {
        "id": "448fHekQMEzd"
      },
      "source": [
        "### In case of specific sets of sessions"
      ]
    },
    {
      "cell_type": "code",
      "metadata": {
        "id": "qaNkWiEvMD-n"
      },
      "source": [
        "##### Load meta-data for all experiments\n",
        "data_storage_directory = \"/temp\" # Note: this path must exist on your local drive\n",
        "cache = VisualBehaviorOphysProjectCache.from_s3_cache(cache_dir=data_storage_directory)\n",
        "all_sessions = cache.get_ophys_session_table()\n",
        "\n",
        "###### get ophys ids\n",
        "ses_part = all_sessions.query('full_genotype == \"Slc17a7-IRES2-Cre/wt;Camk2a-tTA/wt;Ai93(TITL-GCaMP6f)/wt\"')\n",
        "sessions = ses_part.query('session_type in (\"OPHYS_1_images_A\", \"OPHYS_3_images_A\")')\n",
        "\n",
        "print('Session types:', sorted(sessions.session_type.unique() ))\n",
        "print('Number of sessions:', len(sessions))\n",
        "print('Number of mice:', len( sessions.mouse_id.unique() ))\n",
        "\n",
        "# sessions\n",
        "ophys_ids = sorted( list( sessions.index ) )\n",
        "print( ophys_ids )"
      ],
      "execution_count": null,
      "outputs": []
    },
    {
      "cell_type": "markdown",
      "metadata": {
        "id": "wSZ7qUVIMJnP"
      },
      "source": [
        "# Automatic download, formatting and saving of sessions"
      ]
    },
    {
      "cell_type": "code",
      "metadata": {
        "id": "Idc3wCNDMMHr"
      },
      "source": [
        "## Each session (behavior_session_id) can have one or multiple 'ophys_experiment_id'\n",
        "# ophys_id = 903621170   # mesoscope session with multiple imaging planes\n",
        "# num = 0\n",
        "for num, ophys_id in enumerate(ophys_ids):\n",
        "\n",
        "  try:\n",
        "    print('Downloading {}/{}'.format(num, len(ophys_ids)))\n",
        "    print('File:', ophys_id)\n",
        "    experiments = {}\n",
        "    ophys_experiment_ids = all_sessions.loc[ophys_id]['ophys_experiment_id']\n",
        "    for ophys_experiment_id in ophys_experiment_ids:\n",
        "        experiments[ophys_experiment_id] = cache.get_behavior_ophys_experiment(ophys_experiment_id)\n",
        "\n",
        "    ###### extract activity from sessions\n",
        "    act_part = list()\n",
        "    act_cell_ids = list()\n",
        "\n",
        "    for ophys_experiment_id in tqdm(experiments.keys()):\n",
        "        one_experiment = experiments[ophys_experiment_id]\n",
        "\n",
        "        # filtered activity\n",
        "        act_pd = one_experiment.events.filtered_events\n",
        "        act_part.append( np.array( [it for it in act_pd]) )  # transform to array (neurons,time)\n",
        "\n",
        "        # corresponding cell_ids (over all sessions)\n",
        "        act_cell_ids.extend( list(one_experiment.events.index) )\n",
        "\n",
        "    act_all = np.concatenate(act_part, axis=0)\n",
        "    img_time = one_experiment.ophys_timestamps\n",
        "    print('Shape of neural activity:', act_all.shape)   \n",
        "\n",
        "\n",
        "    ###### Create a big data array\n",
        "    import xarray as xr\n",
        "    nr_neurons = act_all.shape[0]\n",
        "\n",
        "    ### neural activity\n",
        "    activity = xr.DataArray( data = act_all.astype(np.float32),\n",
        "                      coords = [act_cell_ids, img_time],\n",
        "                      dims = ['neuron_id', 'time'],\n",
        "                      name='activity',\n",
        "                    )\n",
        "\n",
        "    ### stimulation details\n",
        "    stim_details = one_experiment.stimulus_presentations.drop(columns = ['image_set'])\n",
        "    stim_details = stim_details.drop(0) # remove first entry\n",
        "\n",
        "    # create new entry with start_frame\n",
        "    img_time = activity.time.data\n",
        "    stim_times = np.array( stim_details['start_time'] )\n",
        "    stim_frames = np.zeros_like( stim_times ).astype(int)\n",
        "    for i, stim_time in enumerate(stim_times):\n",
        "      stim_frames[i] = np.argmin( np.abs( img_time - stim_time))\n",
        "\n",
        "    # change to xarray\n",
        "    stim_details = stim_details.reset_index()\n",
        "    stim_details['start_frame'] = stim_frames\n",
        "    stim_details = stim_details[['index', 'start_frame', 'start_time', 'image_index', 'image_name', 'is_change']]\n",
        "    images = stim_details.to_xarray()\n",
        "    images = images.rename( dict(index='trial') ) # rename index to trial\n",
        "\n",
        "    ### Running speed of mouse\n",
        "    speed = np.array( one_experiment.running_speed['speed'] )\n",
        "    speed_time = np.array( one_experiment.running_speed['timestamps'] )\n",
        "\n",
        "    from scipy.interpolate import interp1d\n",
        "    interp_fun = interp1d(x=speed_time, y=speed, bounds_error=False, fill_value=0)\n",
        "    speed_imaging = interp_fun( activity.time )\n",
        "\n",
        "    running = xr.DataArray( data = speed_imaging,\n",
        "                            coords = [activity.time],\n",
        "                            name='running')\n",
        "\n",
        "    ### Pupil diameter and blinking\n",
        "    pupil_time = np.array( one_experiment.eye_tracking['timestamps'] )\n",
        "\n",
        "    area = np.array( one_experiment.eye_tracking['pupil_area'] )\n",
        "    no_nan = (np.isnan(area) == False)\n",
        "    interp_fun = interp1d(x=pupil_time[no_nan], y=area[no_nan], bounds_error=False, fill_value=0)\n",
        "    area_img = interp_fun( activity.time )\n",
        "\n",
        "    pupil = xr.DataArray( data = area_img,\n",
        "                          coords = [activity.time],\n",
        "                          name='pupil')\n",
        "\n",
        "    blink = np.array( one_experiment.eye_tracking['likely_blink'] )\n",
        "    interp_fun = interp1d(x=pupil_time, y=blink, bounds_error=False,\n",
        "                          fill_value=False, kind='nearest')\n",
        "    blink_img = interp_fun( activity.time ) > 0\n",
        "\n",
        "    blinking = xr.DataArray( data = blink_img,\n",
        "                          coords = [activity.time],\n",
        "                          name='blinking')\n",
        "\n",
        "\n",
        "    ### Licking behavior\n",
        "    img_time = activity.time.data\n",
        "    lick_times = one_experiment.licks.timestamps\n",
        "\n",
        "    lick_count = np.zeros_like( img_time ).astype(int)\n",
        "    for i, lick_time in enumerate(lick_times):\n",
        "      lick_frame = np.argmin( np.abs( img_time - lick_time))\n",
        "      lick_count[lick_frame] += 1\n",
        "    licking_arr = lick_count > 0\n",
        "\n",
        "    licking = xr.DataArray( data = licking_arr,\n",
        "                          coords = [activity.time],\n",
        "                          name='licking')\n",
        "\n",
        "    ### Rewards\n",
        "    img_time = activity.time.data\n",
        "    reward_times = one_experiment.rewards.timestamps\n",
        "    reward_array = np.zeros_like( img_time ) > 0\n",
        "\n",
        "    for i, reward_time in enumerate(reward_times):\n",
        "      reward_frame = np.argmin( np.abs( img_time - reward_time))\n",
        "      reward_array[ reward_frame ] = True\n",
        "\n",
        "    reward = xr.DataArray( data = reward_array,\n",
        "                          coords = [activity.time],\n",
        "                          name='reward')\n",
        "\n",
        "    ### Add rewarded trials variable\n",
        "    trial_frames = stim_details['start_frame']\n",
        "    rewarded = np.zeros_like( trial_frames ) > 0\n",
        "    frame_rate = one_experiment.metadata['ophys_frame_rate']\n",
        "\n",
        "    for i, fr in enumerate(trial_frames):\n",
        "      if not stim_details['is_change'][i]:\n",
        "        continue\n",
        "      part = reward_array[fr:fr+int(frame_rate)]\n",
        "      rewarded[i] = np.sum( part ) > 0\n",
        "\n",
        "    rewarded = xr.DataArray( data=rewarded,\n",
        "                            coords = [images.trial],\n",
        "                            name='rewarded')\n",
        "    ### Add warped images\n",
        "    imgs = one_experiment.stimulus_templates\n",
        "    inds = imgs.index\n",
        "    size = imgs.loc[inds[0]].warped.shape\n",
        "\n",
        "    shown_images = np.zeros((8,size[0], size[1]), dtype=np.uint8)\n",
        "\n",
        "    for i in range(8):\n",
        "      shown_images[i] = imgs.loc[inds[i]].warped\n",
        "\n",
        "    shown_images.shape\n",
        "\n",
        "    images_warped = xr.DataArray( data = shown_images,\n",
        "                                  coords = [inds, np.arange(size[0]), np.arange(size[1])],\n",
        "                                  dims = ['images_id', 'x', 'y'],\n",
        "                                  name='images')\n",
        "\n",
        "    data = xr.merge([activity, images, rewarded, running, pupil,\n",
        "                    blinking, licking, reward, images_warped])\n",
        "\n",
        "\n",
        "    ##### Add attributes to data\n",
        "    all_meta = one_experiment.metadata\n",
        "    meta_data = dict( mouse_id = all_meta['mouse_id'],\n",
        "                      cre_line = all_meta['cre_line'],\n",
        "                      ophys_session_id = all_meta['ophys_session_id'],\n",
        "                      session_type = all_meta['session_type'],\n",
        "                      frame_rate_Hz = all_meta['ophys_frame_rate'],\n",
        "                      day_of_experiment = all_meta['date_of_acquisition'].strftime(\"%Y-%m-%d\"),\n",
        "                      easy_session_number = num,\n",
        "                      version = 1)\n",
        "\n",
        "    data.attrs = meta_data\n",
        "\n",
        "    print('Frame rate:', all_meta['ophys_frame_rate'])\n",
        "\n",
        "    ##### save xarray\n",
        "    file_name = '{:03d}_excSession_v1_ophys_{}.nc'.format(num, ophys_id)\n",
        "    data.to_netcdf(file_name)\n",
        "\n",
        "  except Exception as e:\n",
        "    print(e)\n",
        "\n",
        "  ##### delete temporary files\n",
        "  path = '/temp/visual-behavior-ophys-1.0.0/behavior_ophys_experiments/behavior_ophys_experiment_{}.nwb'\n",
        "  for id in experiments:\n",
        "    os.remove( path.format(id))"
      ],
      "execution_count": null,
      "outputs": []
    },
    {
      "cell_type": "markdown",
      "metadata": {
        "id": "npF2pswNMPvs"
      },
      "source": [
        "# Move files to the own Google Drive folder\n",
        "\n",
        "Click on the left: Files, Add Drive"
      ]
    },
    {
      "cell_type": "code",
      "metadata": {
        "id": "UuimbCtCMbkM"
      },
      "source": [
        "import shutil\n",
        "import glob\n",
        "from tqdm import tqdm\n",
        "\n",
        "target_folder = '/content/drive/MyDrive/tmp/session_data/'\n",
        "files = sorted( glob.glob('0*') )\n",
        "\n",
        "for file in tqdm(files):\n",
        "  shutil.move(file, target_folder)"
      ],
      "execution_count": null,
      "outputs": []
    }
  ]
}